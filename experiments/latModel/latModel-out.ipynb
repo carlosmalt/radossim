{
 "cells": [
  {
   "cell_type": "markdown",
   "metadata": {
    "papermill": {
     "duration": 0.02935,
     "end_time": "2020-02-09T21:21:15.578747",
     "exception": false,
     "start_time": "2020-02-09T21:21:15.549397",
     "status": "completed"
    },
    "tags": []
   },
   "source": [
    "# Latency Model for the RADOS Simulator\n",
    "The latency model `latModel` has two components: one for converting request size into latency and another one to add compaction delays drawn from a heavy-tailed distribution (e.g. `random.lognormvariate(mu, sigma)`). See `scripts/radossim.py` for more details."
   ]
  },
  {
   "cell_type": "code",
   "execution_count": 1,
   "metadata": {
    "papermill": {
     "duration": 0.030046,
     "end_time": "2020-02-09T21:21:15.624988",
     "exception": false,
     "start_time": "2020-02-09T21:21:15.594942",
     "status": "completed"
    },
    "tags": [
     "parameters"
    ]
   },
   "outputs": [],
   "source": [
    "# Basic parameters\n",
    "runs = 11\n",
    "\n",
    "# latModel parameters (Fit those to an actual BlueStore deployment!)\n",
    "\n",
    "# Log fitting for IO sizes > 64KB\n",
    "lgMult = 820.28\n",
    "lgAdd = -1114.3\n",
    "\n",
    "# Linear fitting for IO sizes <= 64KB\n",
    "smMult = 62.36\n",
    "smAdd = 8.33\n",
    "\n",
    "# Lognormal fitting to \"In each second, at least 10 x 60ms are spent\n",
    "# with the drive being blocked [skourtis:inflow13, Fig 4]\"\n",
    "mu = 2\n",
    "sigma = 2\n",
    "\n",
    "# Test for larger parameters\n",
    "test_list = []\n"
   ]
  },
  {
   "cell_type": "code",
   "execution_count": 2,
   "metadata": {
    "papermill": {
     "duration": 0.050796,
     "end_time": "2020-02-09T21:21:15.693766",
     "exception": false,
     "start_time": "2020-02-09T21:21:15.642970",
     "status": "completed"
    },
    "tags": [
     "injected-parameters"
    ]
   },
   "outputs": [],
   "source": [
    "# Parameters\n",
    "lgMult = 820.28\n",
    "lgAdd = -1114.3\n",
    "smMult = 62.36\n",
    "smAdd = 8.33\n",
    "mu = 2.0\n",
    "sigma = 2.0\n"
   ]
  },
  {
   "cell_type": "code",
   "execution_count": 3,
   "metadata": {
    "papermill": {
     "duration": 6.729363,
     "end_time": "2020-02-09T21:21:22.438835",
     "exception": false,
     "start_time": "2020-02-09T21:21:15.709472",
     "status": "completed"
    },
    "tags": []
   },
   "outputs": [
    {
     "data": {
      "image/png": "[encoded data removed]",
      "text/plain": [
       "<Figure size 432x288 with 1 Axes>"
      ]
     },
     "metadata": {
      "needs_background": "light"
     },
     "output_type": "display_data"
    }
   ],
   "source": [
    "import scripts.radossim as sim\n",
    "import matplotlib\n",
    "import matplotlib.pyplot as plt\n",
    "\n",
    "\n",
    "x = []\n",
    "y_min = []\n",
    "y_max = []\n",
    "for i in range(runs):\n",
    "    s = (2**i) * 4096\n",
    "    x.append(s)\n",
    "    msmts = []\n",
    "    for j in range(10000):\n",
    "        msmts.append(sim.latModel(s, lgMult, lgAdd, smMult, smAdd, mu, sigma))\n",
    "    y_min.append(min(msmts))\n",
    "    y_max.append(max(msmts))\n",
    "    \n",
    "fig, ax = plt.subplots()\n",
    "ax.set_xscale('log')\n",
    "ax.set_yscale('log')\n",
    "ax.plot(x, y_max, color='blue', label='max compaction')\n",
    "ax.plot(x, y_min, color='black', label='min compaction')\n",
    "ax.fill_between(x, y_min, y_max, facecolor='lightgrey')\n",
    "ax.set(xlabel='IO Size [Bytes]', ylabel='Latency [usecs]', title='Radossim Latency Model')\n",
    "\n",
    "plt.legend()\n",
    "plt.show()"
   ]
  },
  {
   "cell_type": "code",
   "execution_count": null,
   "metadata": {
    "papermill": {
     "duration": 0.018337,
     "end_time": "2020-02-09T21:21:22.474808",
     "exception": false,
     "start_time": "2020-02-09T21:21:22.456471",
     "status": "completed"
    },
    "tags": []
   },
   "outputs": [],
   "source": []
  }
 ],
 "metadata": {
  "celltoolbar": "Tags",
  "kernelspec": {
   "display_name": "Python 3",
   "language": "python",
   "name": "python3"
  },
  "language_info": {
   "codemirror_mode": {
    "name": "ipython",
    "version": 3
   },
   "file_extension": ".py",
   "mimetype": "text/x-python",
   "name": "python",
   "nbconvert_exporter": "python",
   "pygments_lexer": "ipython3",
   "version": "3.7.6"
  },
  "papermill": {
   "duration": 21.863495,
   "end_time": "2020-02-09T21:21:22.918280",
   "environment_variables": {},
   "exception": null,
   "input_path": "/github/workspace/experiments/latModel/latModel.ipynb",
   "output_path": "/github/workspace/experiments/latModel/latModel-out.ipynb",
   "parameters": {
    "lgAdd": -1114.3,
    "lgMult": 820.28,
    "mu": 2,
    "sigma": 2,
    "smAdd": 8.33,
    "smMult": 62.36
   },
   "start_time": "2020-02-09T21:21:01.054785",
   "version": "1.2.1"
  }
 },
 "nbformat": 4,
 "nbformat_minor": 4
}
