{
 "cells": [
  {
   "cell_type": "markdown",
   "source": [
    "# Latency Model Validation for the RADOS Simulator"
   ],
   "metadata": {
    "collapsed": false,
    "pycharm": {
     "name": "#%% md\n"
    }
   }
  },
  {
   "cell_type": "code",
   "execution_count": null,
   "outputs": [],
   "source": [
    "from scripts.latency_model import LatencyModel4K"
   ],
   "metadata": {
    "collapsed": false,
    "pycharm": {
     "name": "#%%\n"
    }
   }
  },
  {
   "cell_type": "code",
   "execution_count": null,
   "outputs": [],
   "source": [
    "\n"
   ],
   "metadata": {
    "collapsed": false,
    "pycharm": {
     "name": "#%%\n"
    }
   }
  }
 ],
 "metadata": {
  "celltoolbar": "Tags",
  "kernelspec": {
   "display_name": "Python 3",
   "language": "python",
   "name": "python3"
  },
  "language_info": {
   "codemirror_mode": {
    "name": "ipython",
    "version": 3
   },
   "file_extension": ".py",
   "mimetype": "text/x-python",
   "name": "python",
   "nbconvert_exporter": "python",
   "pygments_lexer": "ipython3",
   "version": "3.7.6"
  },
  "papermill": {
   "duration": 21.863495,
   "end_time": "2020-02-09T21:21:22.918280",
   "environment_variables": {},
   "exception": null,
   "input_path": "/github/workspace/experiments/latModel/latModel.ipynb",
   "output_path": "/github/workspace/experiments/latModel/latModel-out.ipynb",
   "parameters": {
    "lgAdd": -1114.3,
    "lgMult": 820.28,
    "mu": 2,
    "sigma": 2,
    "smAdd": 8.33,
    "smMult": 62.36
   },
   "start_time": "2020-02-09T21:21:01.054785",
   "version": "1.2.1"
  }
 },
 "nbformat": 4,
 "nbformat_minor": 4
}