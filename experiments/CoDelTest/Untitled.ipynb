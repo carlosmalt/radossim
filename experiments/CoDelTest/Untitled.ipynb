{
 "cells": [
  {
   "cell_type": "code",
   "execution_count": 4,
   "metadata": {},
   "outputs": [
    {
     "name": "stdout",
     "output_type": "stream",
     "text": [
      "1 log PriorityItem(priority=4, item='#0000')\n",
      "2 log PriorityItem(priority=3, item='#0001')\n",
      "3 log PriorityItem(priority=2, item='#0002')\n",
      "3 repair PriorityItem(priority=3, item='#0001')\n",
      "4 log PriorityItem(priority=1, item='#0003')\n",
      "6 repair PriorityItem(priority=1, item='#0003')\n",
      "9 repair PriorityItem(priority=2, item='#0002')\n",
      "12 repair PriorityItem(priority=4, item='#0000')\n"
     ]
    }
   ],
   "source": [
    "import simpy\n",
    "import random\n",
    "import math\n",
    "\n",
    "env = simpy.Environment()\n",
    "issues = simpy.PriorityStore(env)\n",
    "def inspector(env, issues):\n",
    "    for issue in [simpy.PriorityItem(4, '#0000'),\n",
    "                   simpy.PriorityItem(3, '#0001'),\n",
    "                   simpy.PriorityItem(2, '#0002'),\n",
    "                   simpy.PriorityItem(1, '#0003')]:\n",
    "        yield env.timeout(1)\n",
    "        print(env.now, 'log', issue)\n",
    "        yield issues.put(issue)\n",
    "\n",
    "def maintainer(env, issues):\n",
    "    while True:\n",
    "        yield env.timeout(3)\n",
    "        issue = yield issues.get()\n",
    "        print(env.now, 'repair', issue)\n",
    "\n",
    "_ = env.process(inspector(env, issues))\n",
    "_ = env.process(maintainer(env, issues))\n",
    "env.run()"
   ]
  },
  {
   "cell_type": "code",
   "execution_count": null,
   "metadata": {},
   "outputs": [],
   "source": []
  }
 ],
 "metadata": {
  "kernelspec": {
   "display_name": "Python 3",
   "language": "python",
   "name": "python3"
  },
  "language_info": {
   "codemirror_mode": {
    "name": "ipython",
    "version": 3
   },
   "file_extension": ".py",
   "mimetype": "text/x-python",
   "name": "python",
   "nbconvert_exporter": "python",
   "pygments_lexer": "ipython3",
   "version": "3.7.6"
  }
 },
 "nbformat": 4,
 "nbformat_minor": 4
}
