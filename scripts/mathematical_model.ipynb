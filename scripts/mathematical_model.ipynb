{
 "cells": [
  {
   "cell_type": "markdown",
   "metadata": {
    "papermill": {
     "duration": 0.02935,
     "end_time": "2020-02-09T21:21:15.578747",
     "exception": false,
     "start_time": "2020-02-09T21:21:15.549397",
     "status": "completed"
    },
    "pycharm": {
     "name": "#%% md\n"
    },
    "tags": []
   },
   "source": [
    "The OSD submit a batch (size of $b$) to BlueStore.\n",
    "\n",
    "The BlueStore process the batch in $T$ seconds:\n",
    "\n",
    "$T = t_c + t_b$\n",
    "\n",
    "where $t_c$ is the processing time that is not dependent to the size of batch, and $t_b$ is the processing time of the batch.\n",
    "\n",
    "$t_b = b \\times t_w$\n",
    "\n",
    "$t_w$ is the processing time of a single write.\n",
    "\n",
    "$T = t_c + b \\times t_w$\n",
    "\n",
    "Throughput ($s$ is the size of every write):\n",
    "\n",
    "$Thr = \\frac{b \\times s}{T} = \\frac{b \\times s}{t_c + b \\times t_w}$\n",
    "\n",
    "If we assume batch size is very big (current BlueStore):\n",
    "\n",
    "$Thr_{\\infty} = \\lim_{b\\to\\infty} \\frac{b \\times s}{t_c + b \\times t_w} = \\frac{s}{t_w}$\n",
    "\n",
    "Difference between $Thr_{\\infty}$ and Throughput with limited batch sizes:\n",
    "\n",
    "$\\Delta Thr = 1 - \\frac{Thr}{Thr_{\\infty}} = \\frac{t_c}{t_c+b \\times t_w}$\n",
    "\n",
    "We need that $\\Delta Thr \\leq 0.1$. As a result:\n",
    "\n",
    "$b \\geq \\frac{9 \\times t_c}{t_w}$\n",
    "\n",
    "$T_{qdelay} \\geq 10 \\times t_c$"
   ]
  },
  {
   "cell_type": "markdown",
   "metadata": {
    "pycharm": {
     "name": "#%%\n"
    }
   },
   "source": []
  }
 ],
 "metadata": {
  "celltoolbar": "Tags",
  "kernelspec": {
   "display_name": "Python 3",
   "language": "python",
   "name": "python3"
  },
  "language_info": {
   "codemirror_mode": {
    "name": "ipython",
    "version": 3
   },
   "file_extension": ".py",
   "mimetype": "text/x-python",
   "name": "python",
   "nbconvert_exporter": "python",
   "pygments_lexer": "ipython3",
   "version": "3.8.2"
  },
  "papermill": {
   "duration": 21.863495,
   "end_time": "2020-02-09T21:21:22.918280",
   "environment_variables": {},
   "exception": null,
   "input_path": "/github/workspace/experiments/latModel/latModel.ipynb",
   "output_path": "/github/workspace/experiments/latModel/latModel-out.ipynb",
   "parameters": {
    "lgAdd": -1114.3,
    "lgMult": 820.28,
    "mu": 2,
    "sigma": 2,
    "smAdd": 8.33,
    "smMult": 62.36
   },
   "start_time": "2020-02-09T21:21:01.054785",
   "version": "1.2.1"
  }
 },
 "nbformat": 4,
 "nbformat_minor": 4
}