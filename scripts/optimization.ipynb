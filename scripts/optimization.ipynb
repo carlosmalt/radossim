{
 "cells": [
  {
   "cell_type": "markdown",
   "metadata": {
    "papermill": {
     "duration": 0.02935,
     "end_time": "2020-02-09T21:21:15.578747",
     "exception": false,
     "start_time": "2020-02-09T21:21:15.549397",
     "status": "completed"
    },
    "tags": [],
    "pycharm": {
     "name": "#%% md\n"
    }
   },
   "source": [
    "# Optimization Error Function\n",
    "$ThroughputChange = \\frac{ originalThroughput - throughput }{originalThroughput} \\times 100$\n",
    "\n",
    "if $ThroughputChange > \\%10$ then:\n",
    "\n",
    "$error = 1,000,000$\n",
    "\n",
    "else:\n",
    "\n",
    "$error = OsdQueueLenError + ThroughputError$\n",
    "\n",
    "$OsdQueueLenError = \\frac{48}{osdQueueLen}$\n",
    "\n",
    "$ThroughputError = 2^{ThroughputChange - 10}$\n"
   ]
  }
 ],
 "metadata": {
  "celltoolbar": "Tags",
  "kernelspec": {
   "display_name": "Python 3",
   "language": "python",
   "name": "python3"
  },
  "language_info": {
   "codemirror_mode": {
    "name": "ipython",
    "version": 3
   },
   "file_extension": ".py",
   "mimetype": "text/x-python",
   "name": "python",
   "nbconvert_exporter": "python",
   "pygments_lexer": "ipython3",
   "version": "3.7.6"
  },
  "papermill": {
   "duration": 21.863495,
   "end_time": "2020-02-09T21:21:22.918280",
   "environment_variables": {},
   "exception": null,
   "input_path": "/github/workspace/experiments/latModel/latModel.ipynb",
   "output_path": "/github/workspace/experiments/latModel/latModel-out.ipynb",
   "parameters": {
    "lgAdd": -1114.3,
    "lgMult": 820.28,
    "mu": 2,
    "sigma": 2,
    "smAdd": 8.33,
    "smMult": 62.36
   },
   "start_time": "2020-02-09T21:21:01.054785",
   "version": "1.2.1"
  }
 },
 "nbformat": 4,
 "nbformat_minor": 4
}